{
 "cells": [
  {
   "cell_type": "markdown",
   "metadata": {},
   "source": [
    "**Задание 1**. Даны 2 строки: *long_phrase* и *short_phrase*. \n",
    "Напишите код, который проверяет действительно ли длинная фраза *long_phrase* длиннее короткой *short_phrase*. И выводит *True* или *False* в зависимости от результата сравнения."
   ]
  },
  {
   "cell_type": "code",
   "execution_count": 4,
   "metadata": {},
   "outputs": [],
   "source": [
    "long_phrase = 'Насколько проще было бы писать программы, если бы не заказчики'\n",
    "short_phrase = '640Кб должно хватить для любых задач. Билл Гейтс (по легенде)'"
   ]
  },
  {
   "cell_type": "code",
   "execution_count": 5,
   "metadata": {},
   "outputs": [
    {
     "name": "stdout",
     "output_type": "stream",
     "text": [
      "True\n"
     ]
    }
   ],
   "source": [
    "if len(long_phrase) > len(short_phrase):\n",
    "    print('True')\n",
    "else:\n",
    "    pring('False')"
   ]
  },
  {
   "cell_type": "markdown",
   "metadata": {},
   "source": [
    "**Задание 2**. Дано значение объема файла в байтах. Напишите перевод этого значения в мегабайты в формате: \"*Объем файла равен 213.68Mb*\""
   ]
  },
  {
   "cell_type": "code",
   "execution_count": 12,
   "metadata": {},
   "outputs": [
    {
     "name": "stdout",
     "output_type": "stream",
     "text": [
      "Объем файла равен 1292.12Mb\n"
     ]
    }
   ],
   "source": [
    "file_length_byte = 1323131\n",
    "file_length_mbyte = round(file_length_byte / 1024,2)\n",
    "print(\"Объем файла равен \" + str(file_length_mbyte) + \"Mb\")"
   ]
  },
  {
   "cell_type": "markdown",
   "metadata": {},
   "source": [
    "**Задание 3**. Разработать приложение для определения знака зодиака по дате рождения. Пример:\n",
    "\n",
    "Введите месяц: март\n",
    "\n",
    "Введите число: 6\n",
    "\n",
    "Вывод:\n",
    "Рыбы"
   ]
  },
  {
   "cell_type": "code",
   "execution_count": 6,
   "metadata": {},
   "outputs": [
    {
     "name": "stdout",
     "output_type": "stream",
     "text": [
      "Введите месяц:январь\n",
      "Введите число:10\n",
      "Козерог\n"
     ]
    }
   ],
   "source": [
    "def jan(d):\n",
    "    result = \"Водолей\"\n",
    "    if d < 20:\n",
    "        result = \"Козерог\"\n",
    "    return result\n",
    "def feb(d):\n",
    "    result = \"Рыба\"\n",
    "    if d < 19:\n",
    "        result = \"Водолей\"\n",
    "    return result\n",
    "def mar(d):\n",
    "    result = \"Овен\"\n",
    "    if d < 21:\n",
    "        result = \"Рыба\"\n",
    "    return result\n",
    "def apr(d):\n",
    "    result = \"Телец\"\n",
    "    if d < 20:\n",
    "        result = \"Овен\"\n",
    "    return result\n",
    "def may(d):\n",
    "    result = \"Близнецы\"\n",
    "    if d < 21:\n",
    "        result = \"Телец\"\n",
    "    return result\n",
    "def jun(d):\n",
    "    result = \"Рак\"\n",
    "    if d < 22:\n",
    "        result = \"Близнецы\"\n",
    "    return result\n",
    "def jul(d):\n",
    "    result = \"Лев\"\n",
    "    if d < 23:\n",
    "        result = \"Рак\"\n",
    "    return result\n",
    "def aug(d):\n",
    "    result = \"Дева\"\n",
    "    if d < 23:\n",
    "        result = \"Лев\"\n",
    "    return result\n",
    "def sept(d):\n",
    "    result = \"Весы\"\n",
    "    if d < 23:\n",
    "        result = \"Дева\"\n",
    "    return result\n",
    "def octob(d):\n",
    "    result = \"Скорпион\"\n",
    "    if d < 23:\n",
    "        result = \"Весы\"\n",
    "    return result\n",
    "def novemb(d):\n",
    "    result = \"Стрелец\"\n",
    "    if d < 23:\n",
    "        result = \"Скорпион\"\n",
    "    return result\n",
    "def decemb(d):\n",
    "    result = \"Козерог\"\n",
    "    if d < 22:\n",
    "        result = \"Стрелец\"\n",
    "    return result\n",
    "\n",
    "allmonth = ['январь','февраль','март','апрель','май','инюнь','июль','август','сентябрь','октябрь','ноябрь','декабрь']\n",
    "try:\n",
    "    m = str.lower(input(\"Введите месяц:\"))\n",
    "    d = int(input(\"Введите число:\"))\n",
    "    if (m not in allmonth):\n",
    "        raise ValueError('неправильный месяц')\n",
    "    if (d < 1 or d > 31):    \n",
    "        raise ValueError('ошибка даты')\n",
    "    result = {\n",
    "        1: jan,\n",
    "        2: feb,\n",
    "        3: mar,\n",
    "        4: apr,\n",
    "        5: may,\n",
    "        6: jun,\n",
    "        7: jul,\n",
    "        8: aug,\n",
    "        9: sept,\n",
    "        10: octob,\n",
    "        11: novemb,\n",
    "        12: decemb\n",
    "    }\n",
    "    print(result.get(allmonth.index(m) + 1,None)(d))    \n",
    "     \n",
    "except ValueError: \n",
    "    print('Ошибка ввода')\n"
   ]
  },
  {
   "cell_type": "markdown",
   "metadata": {},
   "source": [
    "**Задание 4**. Нужно разработать приложение для финансового планирования.\n",
    "Приложение учитывает сколько уходит на ипотеку, \"на жизнь\" и сколько нужно отложить на пенсию.\n",
    "Пользователь вводит:\n",
    "- заработанную плату в месяц.\n",
    "- сколько процентов от ЗП уходит на ипотеку.\n",
    "- сколько процентов от ЗП уходит \"на жизнь\".\n",
    "- сколько раз приходит премия в год.\n",
    "\n",
    "Остальная часть заработанной платы откладывается на пенсию.\n",
    "\n",
    "Также пользователю приходит премия в размере зарплаты, от которой половина уходит на отпуск, а вторая половина откладывается.\n",
    "\n",
    "Программа должна учитывать сколько премий было в год.\n",
    "\n",
    "Нужно вывести сколько денег тратит пользователь на ипотеку и сколько он накопит за год.\n",
    "\n",
    "Пример:\n",
    "\n",
    "Введите заработанную плату в месяц: 100000\n",
    "\n",
    "Введите сколько процентов уходит на ипотеку: 30\n",
    "\n",
    "Введите сколько процентов уходит на жизнь: 50\n",
    "\n",
    "Введите количество премий за год: 2\n",
    "\n",
    "Вывод:\n",
    "На ипотеку было потрачено: 360000 рублей\n",
    "Было накоплено: 340000 рублей"
   ]
  },
  {
   "cell_type": "code",
   "execution_count": 10,
   "metadata": {},
   "outputs": [
    {
     "name": "stdout",
     "output_type": "stream",
     "text": [
      "Введите заработанную плату в месяц:100000\n",
      "Введите сколько процентов уходит на ипотеку:30\n",
      "Введите сколько процентов уходит на жизнь:50\n",
      "Введите количество премий за год:2\n",
      "На ипотеку потрачено:360000 рублей. Было накоплено:340000 рублей\n"
     ]
    }
   ],
   "source": [
    "try:\n",
    "    summa = int(input(\"Введите заработанную плату в месяц:\"))\n",
    "    ipo = int(input(\"Введите сколько процентов уходит на ипотеку:\"))\n",
    "    life = int(input(\"Введите сколько процентов уходит на жизнь:\"))\n",
    "    pr = int(input(\"Введите количество премий за год:\"))\n",
    "    if ((summa < 0) or (ipo < 0) or ((ipo + life) > 100) or (life < 0)):    \n",
    "        raise ValueError('ошибка даты')\n",
    "    ipo_sum = summa*12*ipo/100;\n",
    "    life_sum = summa*12*life/100;\n",
    "    pens_sum = round(summa*12+(pr*summa)/2-ipo_sum-life_sum)\n",
    "    print(\"На ипотеку потрачено:\"+str(round(ipo_sum))+\" рублей. Было накоплено:\"+str(pens_sum)+\" рублей\")    \n",
    "except ValueError: \n",
    "    print('Ошибка ввода')\n"
   ]
  }
 ],
 "metadata": {
  "kernelspec": {
   "display_name": "Python 3",
   "language": "python",
   "name": "python3"
  },
  "language_info": {
   "codemirror_mode": {
    "name": "ipython",
    "version": 3
   },
   "file_extension": ".py",
   "mimetype": "text/x-python",
   "name": "python",
   "nbconvert_exporter": "python",
   "pygments_lexer": "ipython3",
   "version": "3.7.4"
  }
 },
 "nbformat": 4,
 "nbformat_minor": 2
}
